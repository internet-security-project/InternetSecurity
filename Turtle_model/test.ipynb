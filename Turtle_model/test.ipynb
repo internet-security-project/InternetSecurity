{
 "cells": [
  {
   "cell_type": "code",
   "execution_count": 3,
   "metadata": {},
   "outputs": [
    {
     "name": "stderr",
     "output_type": "stream",
     "text": [
      "WARNING:absl:Compiled the loaded model, but the compiled metrics have yet to be built. `model.compile_metrics` will be empty until you train or evaluate the model.\n"
     ]
    },
    {
     "name": "stdout",
     "output_type": "stream",
     "text": [
      "Original Image Shape: (418, 739, 3)\n",
      "랜드마크를 감지할 수 없습니다.\n"
     ]
    }
   ],
   "source": [
    "# 좌표 형식: (x, y) 형태로 예시를 생성합니다.\n",
    "# 형식: (코드에서 사용할 때, (왼쪽 귀, 오른쪽 귀, 왼쪽 어깨, 오른쪽 어깨))\n",
    "landmark_coordinates = [\n",
    "    [(300, 300), (400, 300), (350, 350), (450, 350)],  # 1\n",
    "    [(310, 310), (410, 310), (360, 360), (460, 360)],  # 2\n",
    "    [(320, 320), (420, 320), (370, 370), (470, 370)],  # 3\n",
    "    [(330, 330), (430, 330), (380, 380), (480, 380)],  # 4\n",
    "    [(340, 340), (440, 340), (390, 390), (490, 390)],  # 5\n",
    "]\n"
   ]
  },
  {
   "cell_type": "code",
   "execution_count": 4,
   "metadata": {},
   "outputs": [
    {
     "ename": "NameError",
     "evalue": "name 'landmark_coordinates' is not defined",
     "output_type": "error",
     "traceback": [
      "\u001b[1;31m---------------------------------------------------------------------------\u001b[0m",
      "\u001b[1;31mNameError\u001b[0m                                 Traceback (most recent call last)",
      "Cell \u001b[1;32mIn[4], line 13\u001b[0m\n\u001b[0;32m     10\u001b[0m     \u001b[38;5;28;01mreturn\u001b[39;00m angle_degrees\n\u001b[0;32m     12\u001b[0m \u001b[38;5;66;03m# 테스트할 좌표 (왼쪽 귀, 오른쪽 귀, 왼쪽 어깨, 오른쪽 어깨)\u001b[39;00m\n\u001b[1;32m---> 13\u001b[0m \u001b[38;5;28;01mfor\u001b[39;00m i, coords \u001b[38;5;129;01min\u001b[39;00m \u001b[38;5;28menumerate\u001b[39m(\u001b[43mlandmark_coordinates\u001b[49m):\n\u001b[0;32m     14\u001b[0m     left_ear, right_ear, left_shoulder, right_shoulder \u001b[38;5;241m=\u001b[39m coords\n\u001b[0;32m     16\u001b[0m     \u001b[38;5;66;03m# 목 각도 계산 (코드에서 사용할 때 좌표는 오른쪽 어깨를 기준으로 설정)\u001b[39;00m\n",
      "\u001b[1;31mNameError\u001b[0m: name 'landmark_coordinates' is not defined"
     ]
    }
   ],
   "source": [
    "import numpy as np\n",
    "\n",
    "def calculate_neck_angle(nose, left_shoulder, right_shoulder):\n",
    "    shoulder_center_x = (left_shoulder[0] + right_shoulder[0]) / 2\n",
    "    shoulder_center_y = (left_shoulder[1] + right_shoulder[1]) / 2\n",
    "    delta_x = nose[0] - shoulder_center_x\n",
    "    delta_y = shoulder_center_y - nose[1]\n",
    "    angle_radians = np.arctan2(delta_y, delta_x)\n",
    "    angle_degrees = np.degrees(angle_radians)\n",
    "    return angle_degrees\n",
    "\n",
    "# 테스트할 좌표 (왼쪽 귀, 오른쪽 귀, 왼쪽 어깨, 오른쪽 어깨)\n",
    "for i, coords in enumerate(landmark_coordinates):\n",
    "    left_ear, right_ear, left_shoulder, right_shoulder = coords\n",
    "    \n",
    "    # 목 각도 계산 (코드에서 사용할 때 좌표는 오른쪽 어깨를 기준으로 설정)\n",
    "    neck_angle = calculate_neck_angle(right_ear, left_shoulder, right_shoulder)\n",
    "    \n",
    "    # 임계값 기준 거북목 여부 결정 (각도 45도 초과를 거북목으로 설정)\n",
    "    is_turtle_neck = neck_angle > 45\n",
    "    \n",
    "    print(f\"예시 {i+1}: Neck Angle = {neck_angle:.2f}, 거북목 여부: {'감지되었습니다.' if is_turtle_neck else '정상입니다.'}\")\n"
   ]
  },
  {
   "cell_type": "code",
   "execution_count": null,
   "metadata": {},
   "outputs": [],
   "source": []
  }
 ],
 "metadata": {
  "kernelspec": {
   "display_name": "Python 3",
   "language": "python",
   "name": "python3"
  },
  "language_info": {
   "codemirror_mode": {
    "name": "ipython",
    "version": 3
   },
   "file_extension": ".py",
   "mimetype": "text/x-python",
   "name": "python",
   "nbconvert_exporter": "python",
   "pygments_lexer": "ipython3",
   "version": "3.11.9"
  }
 },
 "nbformat": 4,
 "nbformat_minor": 2
}
