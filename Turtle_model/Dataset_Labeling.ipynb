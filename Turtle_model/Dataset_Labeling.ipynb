{
 "cells": [
  {
   "cell_type": "code",
   "execution_count": 1,
   "metadata": {},
   "outputs": [],
   "source": [
    "import json\n",
    "import cv2\n",
    "import numpy as np\n",
    "from pycocotools.coco import COCO\n",
    "import os\n",
    "import mediapipe as mp"
   ]
  },
  {
   "cell_type": "code",
   "execution_count": 2,
   "metadata": {},
   "outputs": [],
   "source": [
    "#데이터셋 경로\n",
    "data_dir='./Cocodataset'\n",
    "ann_file = f'{data_dir}/annotations/person_keypoints_train2017.json'"
   ]
  },
  {
   "cell_type": "code",
   "execution_count": 3,
   "metadata": {},
   "outputs": [
    {
     "name": "stdout",
     "output_type": "stream",
     "text": [
      "loading annotations into memory...\n",
      "Done (t=7.80s)\n",
      "creating index...\n",
      "index created!\n"
     ]
    }
   ],
   "source": [
    "#데이터 로드\n",
    "coco = COCO(ann_file)"
   ]
  },
  {
   "cell_type": "code",
   "execution_count": 4,
   "metadata": {},
   "outputs": [],
   "source": [
    "#이미지 어노테이션 불러오기 (사람 카테고리 id)\n",
    "img_ids = coco.getImgIds(catIds=[1])\n",
    "images = coco.loadImgs(img_ids)"
   ]
  },
  {
   "cell_type": "code",
   "execution_count": 5,
   "metadata": {},
   "outputs": [],
   "source": [
    "#데이터셋 초기화\n",
    "X=[]\n",
    "y=[]"
   ]
  },
  {
   "cell_type": "code",
   "execution_count": 6,
   "metadata": {},
   "outputs": [
    {
     "name": "stderr",
     "output_type": "stream",
     "text": [
      "C:\\Users\\goode\\AppData\\Local\\Packages\\PythonSoftwareFoundation.Python.3.11_qbz5n2kfra8p0\\LocalCache\\local-packages\\Python311\\site-packages\\google\\protobuf\\symbol_database.py:55: UserWarning: SymbolDatabase.GetPrototype() is deprecated. Please use message_factory.GetMessageClass() instead. SymbolDatabase.GetPrototype() will be removed soon.\n",
      "  warnings.warn('SymbolDatabase.GetPrototype() is deprecated. Please '\n"
     ]
    },
    {
     "name": "stdout",
     "output_type": "stream",
     "text": [
      "Keypoints를 추출할 수 없습니다: ./Cocodataset/turtle_neck\\IMG_4076.JPG\n",
      "Keypoints를 추출할 수 없습니다: ./Cocodataset/turtle_neck\\IMG_4112.JPG\n",
      "Keypoints를 추출할 수 없습니다: ./Cocodataset/turtle_neck\\IMG_4113.JPG\n",
      "Keypoints를 추출할 수 없습니다: ./Cocodataset/turtle_neck\\IMG_4114.JPG\n",
      "Keypoints를 추출할 수 없습니다: ./Cocodataset/turtle_neck\\IMG_4115.JPG\n",
      "Keypoints를 추출할 수 없습니다: ./Cocodataset/turtle_neck\\IMG_4116.JPG\n",
      "Keypoints를 추출할 수 없습니다: ./Cocodataset/turtle_neck\\IMG_4117.JPG\n",
      "Keypoints를 추출할 수 없습니다: ./Cocodataset/turtle_neck\\IMG_4118.JPG\n",
      "Keypoints를 추출할 수 없습니다: ./Cocodataset/turtle_neck\\IMG_4119.JPG\n",
      "Keypoints를 추출할 수 없습니다: ./Cocodataset/turtle_neck\\IMG_4120.JPG\n",
      "Keypoints를 추출할 수 없습니다: ./Cocodataset/turtle_neck\\IMG_4121.JPG\n",
      "Keypoints를 추출할 수 없습니다: ./Cocodataset/turtle_neck\\IMG_4122.JPG\n",
      "Keypoints를 추출할 수 없습니다: ./Cocodataset/turtle_neck\\IMG_4123.JPG\n",
      "Keypoints를 추출할 수 없습니다: ./Cocodataset/turtle_neck\\IMG_4124.JPG\n",
      "Keypoints를 추출할 수 없습니다: ./Cocodataset/turtle_neck\\IMG_4125.JPG\n",
      "Keypoints를 추출할 수 없습니다: ./Cocodataset/turtle_neck\\IMG_4126.JPG\n",
      "Keypoints를 추출할 수 없습니다: ./Cocodataset/turtle_neck\\IMG_4127.JPG\n",
      "Keypoints를 추출할 수 없습니다: ./Cocodataset/turtle_neck\\IMG_4128.JPG\n",
      "이미지를 불러올 수 없습니다: ./Cocodataset/turtle_neck\\IMG_4203.HEIC\n",
      "이미지를 불러올 수 없습니다: ./Cocodataset/turtle_neck\\IMG_4203.MOV\n",
      "이미지를 불러올 수 없습니다: ./Cocodataset/turtle_neck\\IMG_4204.HEIC\n",
      "이미지를 불러올 수 없습니다: ./Cocodataset/turtle_neck\\IMG_4204.MOV\n",
      "이미지를 불러올 수 없습니다: ./Cocodataset/turtle_neck\\IMG_4205.HEIC\n",
      "이미지를 불러올 수 없습니다: ./Cocodataset/turtle_neck\\IMG_4205.MOV\n",
      "이미지를 불러올 수 없습니다: ./Cocodataset/turtle_neck\\IMG_5617.HEIC\n",
      "이미지를 불러올 수 없습니다: ./Cocodataset/turtle_neck\\IMG_5617.MOV\n",
      "이미지를 불러올 수 없습니다: ./Cocodataset/turtle_neck\\IMG_5618.HEIC\n",
      "이미지를 불러올 수 없습니다: ./Cocodataset/turtle_neck\\IMG_5618.MOV\n",
      "이미지를 불러올 수 없습니다: ./Cocodataset/turtle_neck\\IMG_5619.HEIC\n",
      "이미지를 불러올 수 없습니다: ./Cocodataset/turtle_neck\\IMG_5619.MOV\n",
      "이미지를 불러올 수 없습니다: ./Cocodataset/turtle_neck\\IMG_5621.HEIC\n",
      "이미지를 불러올 수 없습니다: ./Cocodataset/turtle_neck\\IMG_5621.MOV\n",
      "이미지를 불러올 수 없습니다: ./Cocodataset/turtle_neck\\IMG_5622.HEIC\n",
      "이미지를 불러올 수 없습니다: ./Cocodataset/turtle_neck\\IMG_5622.MOV\n",
      "이미지를 불러올 수 없습니다: ./Cocodataset/turtle_neck\\IMG_5623.HEIC\n",
      "이미지를 불러올 수 없습니다: ./Cocodataset/turtle_neck\\IMG_5623.MOV\n",
      "이미지를 불러올 수 없습니다: ./Cocodataset/turtle_neck\\IMG_5624.HEIC\n",
      "이미지를 불러올 수 없습니다: ./Cocodataset/turtle_neck\\IMG_5624.MOV\n",
      "이미지를 불러올 수 없습니다: ./Cocodataset/turtle_neck\\IMG_5625.HEIC\n",
      "이미지를 불러올 수 없습니다: ./Cocodataset/turtle_neck\\IMG_5625.MOV\n",
      "이미지를 불러올 수 없습니다: ./Cocodataset/turtle_neck\\IMG_5626.HEIC\n",
      "이미지를 불러올 수 없습니다: ./Cocodataset/turtle_neck\\IMG_5626.MOV\n",
      "이미지를 불러올 수 없습니다: ./Cocodataset/turtle_neck\\IMG_5627.HEIC\n",
      "이미지를 불러올 수 없습니다: ./Cocodataset/turtle_neck\\IMG_5627.MOV\n",
      "이미지를 불러올 수 없습니다: ./Cocodataset/turtle_neck\\IMG_5628.HEIC\n",
      "이미지를 불러올 수 없습니다: ./Cocodataset/turtle_neck\\IMG_5628.MOV\n",
      "이미지를 불러올 수 없습니다: ./Cocodataset/turtle_neck\\IMG_5629.HEIC\n",
      "이미지를 불러올 수 없습니다: ./Cocodataset/turtle_neck\\IMG_5629.MOV\n",
      "이미지를 불러올 수 없습니다: ./Cocodataset/turtle_neck\\IMG_5630.HEIC\n",
      "이미지를 불러올 수 없습니다: ./Cocodataset/turtle_neck\\IMG_5630.MOV\n",
      "이미지를 불러올 수 없습니다: ./Cocodataset/turtle_neck\\IMG_5631.HEIC\n",
      "이미지를 불러올 수 없습니다: ./Cocodataset/turtle_neck\\IMG_5631.MOV\n",
      "이미지를 불러올 수 없습니다: ./Cocodataset/turtle_neck\\IMG_5632.HEIC\n",
      "이미지를 불러올 수 없습니다: ./Cocodataset/turtle_neck\\IMG_5632.MOV\n",
      "이미지를 불러올 수 없습니다: ./Cocodataset/turtle_neck\\IMG_5633.HEIC\n",
      "이미지를 불러올 수 없습니다: ./Cocodataset/turtle_neck\\IMG_5633.MOV\n",
      "이미지를 불러올 수 없습니다: ./Cocodataset/turtle_neck\\IMG_5634.HEIC\n",
      "이미지를 불러올 수 없습니다: ./Cocodataset/turtle_neck\\IMG_5634.MOV\n",
      "이미지를 불러올 수 없습니다: ./Cocodataset/turtle_neck\\IMG_5635.HEIC\n",
      "이미지를 불러올 수 없습니다: ./Cocodataset/turtle_neck\\IMG_5635.MOV\n",
      "이미지를 불러올 수 없습니다: ./Cocodataset/turtle_neck\\IMG_5636.HEIC\n",
      "이미지를 불러올 수 없습니다: ./Cocodataset/turtle_neck\\IMG_5636.MOV\n",
      "이미지를 불러올 수 없습니다: ./Cocodataset/turtle_neck\\IMG_5637.HEIC\n",
      "이미지를 불러올 수 없습니다: ./Cocodataset/turtle_neck\\IMG_5637.MOV\n",
      "Keypoints를 추출할 수 없습니다: ./Cocodataset/turtle_neck\\IMG_5739.JPG\n",
      "라벨링 완료 및 데이터 저장\n"
     ]
    }
   ],
   "source": [
    "\n",
    "# turtle_neck 폴더 경로\n",
    "turtle_neck_folder = f\"{data_dir}/turtle_neck\"\n",
    "image_files = os.listdir(turtle_neck_folder)\n",
    "\n",
    "# Mediapipe 초기화\n",
    "mp_pose = mp.solutions.pose\n",
    "pose = mp_pose.Pose()\n",
    "\n",
    "X = []\n",
    "y = []\n",
    "\n",
    "# 거북목 라벨링 함수\n",
    "def calculate_neck_angle(nose, left_shoulder, right_shoulder):\n",
    "    shoulder_center_x = (left_shoulder[0] + right_shoulder[0]) / 2\n",
    "    shoulder_center_y = (left_shoulder[1] + right_shoulder[1]) / 2\n",
    "    delta_x = nose[0] - shoulder_center_x\n",
    "    delta_y = shoulder_center_y - nose[1]\n",
    "    angle_radians = np.arctan2(delta_y, delta_x)\n",
    "    angle_degrees = np.degrees(angle_radians)\n",
    "    return angle_degrees\n",
    "\n",
    "# 데이터셋 처리: turtle_neck 폴더의 이미지 순회\n",
    "for img_file in image_files:\n",
    "    img_path = os.path.join(turtle_neck_folder, img_file)\n",
    "    img = cv2.imread(img_path)\n",
    "    \n",
    "    # 이미지가 제대로 로드되었는지 확인\n",
    "    if img is not None:\n",
    "        # Mediapipe로 이미지에서 keypoints 추출\n",
    "        image_rgb = cv2.cvtColor(img, cv2.COLOR_BGR2RGB)\n",
    "        results = pose.process(image_rgb)\n",
    "        \n",
    "        if results.pose_landmarks:\n",
    "            # 필요한 keypoints 추출 (코, 왼쪽 어깨, 오른쪽 어깨)\n",
    "            nose = results.pose_landmarks.landmark[mp_pose.PoseLandmark.NOSE]\n",
    "            left_shoulder = results.pose_landmarks.landmark[mp_pose.PoseLandmark.LEFT_SHOULDER]\n",
    "            right_shoulder = results.pose_landmarks.landmark[mp_pose.PoseLandmark.RIGHT_SHOULDER]\n",
    "            \n",
    "            # keypoints의 (x, y) 좌표 추출\n",
    "            nose_coords = (nose.x, nose.y)\n",
    "            left_shoulder_coords = (left_shoulder.x, left_shoulder.y)\n",
    "            right_shoulder_coords = (right_shoulder.x, right_shoulder.y)\n",
    "            \n",
    "            # 목 각도 계산\n",
    "            angle = calculate_neck_angle(nose_coords, left_shoulder_coords, right_shoulder_coords)\n",
    "            \n",
    "            # 임계값 기준 거북목 여부 결정\n",
    "            if angle > 45:\n",
    "                y.append(1)  # 거북목\n",
    "            else:\n",
    "                y.append(0)  # 정상 자세\n",
    "            \n",
    "            # 이미지 크기 조정 및 데이터셋 추가\n",
    "            img_resized = cv2.resize(img, (64, 64))  # 이미지 크기 조정\n",
    "            X.append(img_resized)\n",
    "        else:\n",
    "            print(f\"Keypoints를 추출할 수 없습니다: {img_path}\")\n",
    "    else:\n",
    "        print(f\"이미지를 불러올 수 없습니다: {img_path}\")\n",
    "\n",
    "# numpy 배열로 저장\n",
    "X = np.array(X)\n",
    "y = np.array(y)\n",
    "np.save('X.npy', X)\n",
    "np.save('y.npy', y)\n",
    "\n",
    "print(\"라벨링 완료 및 데이터 저장\")\n"
   ]
  },
  {
   "cell_type": "code",
   "execution_count": 7,
   "metadata": {},
   "outputs": [
    {
     "name": "stdout",
     "output_type": "stream",
     "text": [
      "라벨링 완료 및 데이터 저장\n"
     ]
    }
   ],
   "source": [
    "np.save('X.npy', np.array(X))\n",
    "np.save('y.npy', np.array(y))\n",
    "\n",
    "print(\"라벨링 완료 및 데이터 저장\")"
   ]
  }
 ],
 "metadata": {
  "kernelspec": {
   "display_name": "Python 3",
   "language": "python",
   "name": "python3"
  },
  "language_info": {
   "codemirror_mode": {
    "name": "ipython",
    "version": 3
   },
   "file_extension": ".py",
   "mimetype": "text/x-python",
   "name": "python",
   "nbconvert_exporter": "python",
   "pygments_lexer": "ipython3",
   "version": "3.11.9"
  }
 },
 "nbformat": 4,
 "nbformat_minor": 2
}
